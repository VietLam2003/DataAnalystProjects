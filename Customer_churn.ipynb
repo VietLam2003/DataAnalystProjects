{
 "cells": [
  {
   "cell_type": "code",
   "execution_count": 10,
   "metadata": {},
   "outputs": [],
   "source": [
    "import pandas as pd\n",
    "import matplotlib.pyplot as plt"
   ]
  },
  {
   "cell_type": "code",
   "execution_count": 70,
   "metadata": {},
   "outputs": [
    {
     "data": {
      "text/html": [
       "<div>\n",
       "<style scoped>\n",
       "    .dataframe tbody tr th:only-of-type {\n",
       "        vertical-align: middle;\n",
       "    }\n",
       "\n",
       "    .dataframe tbody tr th {\n",
       "        vertical-align: top;\n",
       "    }\n",
       "\n",
       "    .dataframe thead th {\n",
       "        text-align: right;\n",
       "    }\n",
       "</style>\n",
       "<table border=\"1\" class=\"dataframe\">\n",
       "  <thead>\n",
       "    <tr style=\"text-align: right;\">\n",
       "      <th></th>\n",
       "      <th>customer_id</th>\n",
       "      <th>credit_score</th>\n",
       "      <th>country</th>\n",
       "      <th>gender</th>\n",
       "      <th>age</th>\n",
       "      <th>tenure</th>\n",
       "      <th>balance</th>\n",
       "      <th>products_number</th>\n",
       "      <th>credit_card</th>\n",
       "      <th>active_member</th>\n",
       "      <th>estimated_salary</th>\n",
       "      <th>churn</th>\n",
       "    </tr>\n",
       "  </thead>\n",
       "  <tbody>\n",
       "    <tr>\n",
       "      <th>0</th>\n",
       "      <td>15634602</td>\n",
       "      <td>619</td>\n",
       "      <td>France</td>\n",
       "      <td>Female</td>\n",
       "      <td>42</td>\n",
       "      <td>2</td>\n",
       "      <td>0.00</td>\n",
       "      <td>1</td>\n",
       "      <td>1</td>\n",
       "      <td>1</td>\n",
       "      <td>101348.88</td>\n",
       "      <td>1</td>\n",
       "    </tr>\n",
       "    <tr>\n",
       "      <th>1</th>\n",
       "      <td>15647311</td>\n",
       "      <td>608</td>\n",
       "      <td>Spain</td>\n",
       "      <td>Female</td>\n",
       "      <td>41</td>\n",
       "      <td>1</td>\n",
       "      <td>83807.86</td>\n",
       "      <td>1</td>\n",
       "      <td>0</td>\n",
       "      <td>1</td>\n",
       "      <td>112542.58</td>\n",
       "      <td>0</td>\n",
       "    </tr>\n",
       "    <tr>\n",
       "      <th>2</th>\n",
       "      <td>15619304</td>\n",
       "      <td>502</td>\n",
       "      <td>France</td>\n",
       "      <td>Female</td>\n",
       "      <td>42</td>\n",
       "      <td>8</td>\n",
       "      <td>159660.80</td>\n",
       "      <td>3</td>\n",
       "      <td>1</td>\n",
       "      <td>0</td>\n",
       "      <td>113931.57</td>\n",
       "      <td>1</td>\n",
       "    </tr>\n",
       "    <tr>\n",
       "      <th>3</th>\n",
       "      <td>15701354</td>\n",
       "      <td>699</td>\n",
       "      <td>France</td>\n",
       "      <td>Female</td>\n",
       "      <td>39</td>\n",
       "      <td>1</td>\n",
       "      <td>0.00</td>\n",
       "      <td>2</td>\n",
       "      <td>0</td>\n",
       "      <td>0</td>\n",
       "      <td>93826.63</td>\n",
       "      <td>0</td>\n",
       "    </tr>\n",
       "    <tr>\n",
       "      <th>4</th>\n",
       "      <td>15737888</td>\n",
       "      <td>850</td>\n",
       "      <td>Spain</td>\n",
       "      <td>Female</td>\n",
       "      <td>43</td>\n",
       "      <td>2</td>\n",
       "      <td>125510.82</td>\n",
       "      <td>1</td>\n",
       "      <td>1</td>\n",
       "      <td>1</td>\n",
       "      <td>79084.10</td>\n",
       "      <td>0</td>\n",
       "    </tr>\n",
       "    <tr>\n",
       "      <th>5</th>\n",
       "      <td>15574012</td>\n",
       "      <td>645</td>\n",
       "      <td>Spain</td>\n",
       "      <td>Male</td>\n",
       "      <td>44</td>\n",
       "      <td>8</td>\n",
       "      <td>113755.78</td>\n",
       "      <td>2</td>\n",
       "      <td>1</td>\n",
       "      <td>0</td>\n",
       "      <td>149756.71</td>\n",
       "      <td>1</td>\n",
       "    </tr>\n",
       "    <tr>\n",
       "      <th>6</th>\n",
       "      <td>15592531</td>\n",
       "      <td>822</td>\n",
       "      <td>France</td>\n",
       "      <td>Male</td>\n",
       "      <td>50</td>\n",
       "      <td>7</td>\n",
       "      <td>0.00</td>\n",
       "      <td>2</td>\n",
       "      <td>1</td>\n",
       "      <td>1</td>\n",
       "      <td>10062.80</td>\n",
       "      <td>0</td>\n",
       "    </tr>\n",
       "    <tr>\n",
       "      <th>7</th>\n",
       "      <td>15656148</td>\n",
       "      <td>376</td>\n",
       "      <td>Germany</td>\n",
       "      <td>Female</td>\n",
       "      <td>29</td>\n",
       "      <td>4</td>\n",
       "      <td>115046.74</td>\n",
       "      <td>4</td>\n",
       "      <td>1</td>\n",
       "      <td>0</td>\n",
       "      <td>119346.88</td>\n",
       "      <td>1</td>\n",
       "    </tr>\n",
       "    <tr>\n",
       "      <th>8</th>\n",
       "      <td>15792365</td>\n",
       "      <td>501</td>\n",
       "      <td>France</td>\n",
       "      <td>Male</td>\n",
       "      <td>44</td>\n",
       "      <td>4</td>\n",
       "      <td>142051.07</td>\n",
       "      <td>2</td>\n",
       "      <td>0</td>\n",
       "      <td>1</td>\n",
       "      <td>74940.50</td>\n",
       "      <td>0</td>\n",
       "    </tr>\n",
       "    <tr>\n",
       "      <th>9</th>\n",
       "      <td>15592389</td>\n",
       "      <td>684</td>\n",
       "      <td>France</td>\n",
       "      <td>Male</td>\n",
       "      <td>27</td>\n",
       "      <td>2</td>\n",
       "      <td>134603.88</td>\n",
       "      <td>1</td>\n",
       "      <td>1</td>\n",
       "      <td>1</td>\n",
       "      <td>71725.73</td>\n",
       "      <td>0</td>\n",
       "    </tr>\n",
       "  </tbody>\n",
       "</table>\n",
       "</div>"
      ],
      "text/plain": [
       "   customer_id  credit_score  country  gender  age  tenure    balance  \\\n",
       "0     15634602           619   France  Female   42       2       0.00   \n",
       "1     15647311           608    Spain  Female   41       1   83807.86   \n",
       "2     15619304           502   France  Female   42       8  159660.80   \n",
       "3     15701354           699   France  Female   39       1       0.00   \n",
       "4     15737888           850    Spain  Female   43       2  125510.82   \n",
       "5     15574012           645    Spain    Male   44       8  113755.78   \n",
       "6     15592531           822   France    Male   50       7       0.00   \n",
       "7     15656148           376  Germany  Female   29       4  115046.74   \n",
       "8     15792365           501   France    Male   44       4  142051.07   \n",
       "9     15592389           684   France    Male   27       2  134603.88   \n",
       "\n",
       "   products_number  credit_card  active_member  estimated_salary  churn  \n",
       "0                1            1              1         101348.88      1  \n",
       "1                1            0              1         112542.58      0  \n",
       "2                3            1              0         113931.57      1  \n",
       "3                2            0              0          93826.63      0  \n",
       "4                1            1              1          79084.10      0  \n",
       "5                2            1              0         149756.71      1  \n",
       "6                2            1              1          10062.80      0  \n",
       "7                4            1              0         119346.88      1  \n",
       "8                2            0              1          74940.50      0  \n",
       "9                1            1              1          71725.73      0  "
      ]
     },
     "execution_count": 70,
     "metadata": {},
     "output_type": "execute_result"
    }
   ],
   "source": [
    "df = pd.read_csv(\"Data_Quest_2.csv\")\n",
    "df.head(10)"
   ]
  },
  {
   "cell_type": "markdown",
   "metadata": {},
   "source": [
    "## EDA Data"
   ]
  },
  {
   "cell_type": "code",
   "execution_count": 71,
   "metadata": {},
   "outputs": [
    {
     "data": {
      "text/plain": [
       "(10000, 12)"
      ]
     },
     "execution_count": 71,
     "metadata": {},
     "output_type": "execute_result"
    }
   ],
   "source": [
    "# Kiểm tra cấu trúc dữ kiệu có đủ lớn hay ko\n",
    "df.shape"
   ]
  },
  {
   "cell_type": "code",
   "execution_count": 72,
   "metadata": {},
   "outputs": [
    {
     "name": "stdout",
     "output_type": "stream",
     "text": [
      "<class 'pandas.core.frame.DataFrame'>\n",
      "RangeIndex: 10000 entries, 0 to 9999\n",
      "Data columns (total 12 columns):\n",
      " #   Column            Non-Null Count  Dtype  \n",
      "---  ------            --------------  -----  \n",
      " 0   customer_id       10000 non-null  int64  \n",
      " 1   credit_score      10000 non-null  int64  \n",
      " 2   country           10000 non-null  object \n",
      " 3   gender            10000 non-null  object \n",
      " 4   age               10000 non-null  int64  \n",
      " 5   tenure            10000 non-null  int64  \n",
      " 6   balance           10000 non-null  float64\n",
      " 7   products_number   10000 non-null  int64  \n",
      " 8   credit_card       10000 non-null  int64  \n",
      " 9   active_member     10000 non-null  int64  \n",
      " 10  estimated_salary  10000 non-null  float64\n",
      " 11  churn             10000 non-null  int64  \n",
      "dtypes: float64(2), int64(8), object(2)\n",
      "memory usage: 937.6+ KB\n"
     ]
    }
   ],
   "source": [
    "df.info()"
   ]
  },
  {
   "cell_type": "code",
   "execution_count": 22,
   "metadata": {},
   "outputs": [],
   "source": [
    "# df.isnull().sum()\n",
    "# '''Sơ qua về data:\n",
    "#         customerID: Số tài khoản\n",
    "#         credit_score: Điểm tín dụng\n",
    "#         country: Quốc gia\n",
    "#         Gender: Giới tính\n",
    "#         age: tuổi\n",
    "#         tenure: Số năm dùng tài khoản của ngân hàng ABC\n",
    "#         balance: Số dư tài khoản\n",
    "#         product_number: Số lượng sản phẩm từ ngân hàng\n",
    "#         credit_card: có thẻ tín dụng hay ko \n",
    "#         active_member: Có phải thành viên tích cực hay ko\n",
    "#         estimated_salary: Mức lương của chủ tài khoản\n",
    "#         churn: Có rời bỏ hay ko \n",
    "# '''"
   ]
  },
  {
   "cell_type": "code",
   "execution_count": 73,
   "metadata": {},
   "outputs": [
    {
     "name": "stdout",
     "output_type": "stream",
     "text": [
      "['country', 'gender']\n"
     ]
    }
   ],
   "source": [
    "# Xem qua các trường object\n",
    "object_cols = [i for i in df.columns if df[i].dtype == \"O\"]\n",
    "print(object_cols)"
   ]
  },
  {
   "cell_type": "code",
   "execution_count": 74,
   "metadata": {},
   "outputs": [
    {
     "data": {
      "image/png": "[encoded data removed]",
      "text/plain": [
       "<Figure size 1500x500 with 1 Axes>"
      ]
     },
     "metadata": {},
     "output_type": "display_data"
    },
    {
     "data": {
      "image/png": "[encoded data removed]",
      "text/plain": [
       "<Figure size 1500x500 with 1 Axes>"
      ]
     },
     "metadata": {},
     "output_type": "display_data"
    }
   ],
   "source": [
    "#Check số lượng các giá trị của object_cols\n",
    "for col in object_cols:\n",
    "    df[col].value_counts().plot(kind = 'bar', figsize = (15,5))\n",
    "    plt.title(col)\n",
    "    plt.show()"
   ]
  },
  {
   "cell_type": "code",
   "execution_count": 19,
   "metadata": {},
   "outputs": [
    {
     "data": {
      "text/plain": [
       "\"Có hai trường object đó là 'gender' và 'country', dễ thấy rằng dữ liệu hai trường này \\nko mang tính thứ bậc nên đối với trường 'country' ta sẽ mã hóa bằng ONEHOT ENCODING và \\ntrường 'gender' sẽ mã hóa bằng 'label_encoder()' do chỉ có 2 giá trị \\n\""
      ]
     },
     "execution_count": 19,
     "metadata": {},
     "output_type": "execute_result"
    }
   ],
   "source": [
    "'''Có hai trường object đó là 'gender' và 'country', dễ thấy rằng dữ liệu hai trường này \n",
    "ko mang tính thứ bậc nên ta sẽ mã hóa bằng ONEHOT ENCODING cho cả dữ liệu\n",
    "'''"
   ]
  },
  {
   "cell_type": "code",
   "execution_count": 75,
   "metadata": {},
   "outputs": [
    {
     "name": "stdout",
     "output_type": "stream",
     "text": [
      "['customer_id', 'credit_score', 'age', 'tenure', 'balance', 'products_number', 'credit_card', 'active_member', 'estimated_salary', 'churn']\n"
     ]
    }
   ],
   "source": [
    "#check các trường numeric\n",
    "numeric_cols = [i for i in df.columns if df[i].dtype != 'O']\n",
    "print(numeric_cols)"
   ]
  },
  {
   "cell_type": "code",
   "execution_count": 76,
   "metadata": {},
   "outputs": [
    {
     "data": {
      "image/png": "[encoded data removed]",
      "text/plain": [
       "<Figure size 640x480 with 1 Axes>"
      ]
     },
     "metadata": {},
     "output_type": "display_data"
    },
    {
     "data": {
      "image/png": "[encoded data removed]",
      "text/plain": [
       "<Figure size 640x480 with 1 Axes>"
      ]
     },
     "metadata": {},
     "output_type": "display_data"
    },
    {
     "data": {
      "image/png": "[encoded data removed]",
      "text/plain": [
       "<Figure size 640x480 with 1 Axes>"
      ]
     },
     "metadata": {},
     "output_type": "display_data"
    },
    {
     "data": {
      "image/png": "[encoded data removed]",
      "text/plain": [
       "<Figure size 640x480 with 1 Axes>"
      ]
     },
     "metadata": {},
     "output_type": "display_data"
    },
    {
     "data": {
      "image/png": "[encoded data removed]",
      "text/plain": [
       "<Figure size 640x480 with 1 Axes>"
      ]
     },
     "metadata": {},
     "output_type": "display_data"
    },
    {
     "data": {
      "image/png": "[encoded data removed]",
      "text/plain": [
       "<Figure size 640x480 with 1 Axes>"
      ]
     },
     "metadata": {},
     "output_type": "display_data"
    },
    {
     "data": {
      "image/png": "[encoded data removed]",
      "text/plain": [
       "<Figure size 640x480 with 1 Axes>"
      ]
     },
     "metadata": {},
     "output_type": "display_data"
    },
    {
     "data": {
      "image/png": "[encoded data removed]",
      "text/plain": [
       "<Figure size 640x480 with 1 Axes>"
      ]
     },
     "metadata": {},
     "output_type": "display_data"
    },
    {
     "data": {
      "image/png": "[encoded data removed]",
      "text/plain": [
       "<Figure size 640x480 with 1 Axes>"
      ]
     },
     "metadata": {},
     "output_type": "display_data"
    },
    {
     "data": {
      "image/png": "[encoded data removed]",
      "text/plain": [
       "<Figure size 640x480 with 1 Axes>"
      ]
     },
     "metadata": {},
     "output_type": "display_data"
    }
   ],
   "source": [
    "for col in numeric_cols:\n",
    "    df[col].hist() #numerric data thì check bằng biểu đồ hist\n",
    "    plt.title(col)\n",
    "    plt.show()"
   ]
  },
  {
   "cell_type": "code",
   "execution_count": 77,
   "metadata": {},
   "outputs": [
    {
     "data": {
      "image/png": "[encoded data removed]",
      "text/plain": [
       "<Figure size 640x480 with 1 Axes>"
      ]
     },
     "metadata": {},
     "output_type": "display_data"
    },
    {
     "data": {
      "image/png": "[encoded data removed]",
      "text/plain": [
       "<Figure size 640x480 with 1 Axes>"
      ]
     },
     "metadata": {},
     "output_type": "display_data"
    },
    {
     "data": {
      "image/png": "[encoded data removed]",
      "text/plain": [
       "<Figure size 640x480 with 1 Axes>"
      ]
     },
     "metadata": {},
     "output_type": "display_data"
    },
    {
     "data": {
      "image/png": "[encoded data removed]",
      "text/plain": [
       "<Figure size 640x480 with 1 Axes>"
      ]
     },
     "metadata": {},
     "output_type": "display_data"
    },
    {
     "data": {
      "image/png": "[encoded data removed]",
      "text/plain": [
       "<Figure size 640x480 with 1 Axes>"
      ]
     },
     "metadata": {},
     "output_type": "display_data"
    },
    {
     "data": {
      "image/png": "[encoded data removed]",
      "text/plain": [
       "<Figure size 640x480 with 1 Axes>"
      ]
     },
     "metadata": {},
     "output_type": "display_data"
    },
    {
     "data": {
      "image/png": "[encoded data removed]",
      "text/plain": [
       "<Figure size 640x480 with 1 Axes>"
      ]
     },
     "metadata": {},
     "output_type": "display_data"
    },
    {
     "data": {
      "image/png": "[encoded data removed]",
      "text/plain": [
       "<Figure size 640x480 with 1 Axes>"
      ]
     },
     "metadata": {},
     "output_type": "display_data"
    },
    {
     "data": {
      "image/png": "[encoded data removed]",
      "text/plain": [
       "<Figure size 640x480 with 1 Axes>"
      ]
     },
     "metadata": {},
     "output_type": "display_data"
    }
   ],
   "source": [
    "#check outliner\n",
    "for col in numeric_cols:\n",
    "    if col != 'churn':\n",
    "        df.boxplot(column=[col])\n",
    "        plt.title(col)\n",
    "        plt.show()"
   ]
  },
  {
   "cell_type": "code",
   "execution_count": 35,
   "metadata": {},
   "outputs": [],
   "source": [
    "#check cột age, do có khá nhiều giá trị outliner nhưng thấy vẫn có mối liên quan đến 'churn' nên giữ lại \n",
    "# df['age'].value_counts()\n",
    "# df['credit_score'].value_counts()\n"
   ]
  },
  {
   "cell_type": "code",
   "execution_count": 78,
   "metadata": {},
   "outputs": [
    {
     "data": {
      "text/plain": [
       "<Axes: xlabel='churn'>"
      ]
     },
     "execution_count": 78,
     "metadata": {},
     "output_type": "execute_result"
    },
    {
     "data": {
      "image/png": "[encoded data removed]",
      "text/plain": [
       "<Figure size 640x480 with 1 Axes>"
      ]
     },
     "metadata": {},
     "output_type": "display_data"
    }
   ],
   "source": [
    "#check inbalance \n",
    "df['churn'].value_counts().plot(kind='bar')"
   ]
  },
  {
   "cell_type": "code",
   "execution_count": null,
   "metadata": {},
   "outputs": [],
   "source": [
    "#có 80% giá trị là 0 và 20% giá trị 1 dẫn đến dữ liệu mất cân bằng"
   ]
  },
  {
   "cell_type": "markdown",
   "metadata": {},
   "source": [
    "### Tiền xử lí dữ liệu để đưa vào model"
   ]
  },
  {
   "cell_type": "code",
   "execution_count": 79,
   "metadata": {},
   "outputs": [
    {
     "data": {
      "text/html": [
       "<div>\n",
       "<style scoped>\n",
       "    .dataframe tbody tr th:only-of-type {\n",
       "        vertical-align: middle;\n",
       "    }\n",
       "\n",
       "    .dataframe tbody tr th {\n",
       "        vertical-align: top;\n",
       "    }\n",
       "\n",
       "    .dataframe thead th {\n",
       "        text-align: right;\n",
       "    }\n",
       "</style>\n",
       "<table border=\"1\" class=\"dataframe\">\n",
       "  <thead>\n",
       "    <tr style=\"text-align: right;\">\n",
       "      <th></th>\n",
       "      <th>customer_id</th>\n",
       "      <th>credit_score</th>\n",
       "      <th>country</th>\n",
       "      <th>gender</th>\n",
       "      <th>age</th>\n",
       "      <th>tenure</th>\n",
       "      <th>balance</th>\n",
       "      <th>products_number</th>\n",
       "      <th>credit_card</th>\n",
       "      <th>active_member</th>\n",
       "      <th>estimated_salary</th>\n",
       "      <th>churn</th>\n",
       "    </tr>\n",
       "  </thead>\n",
       "  <tbody>\n",
       "    <tr>\n",
       "      <th>0</th>\n",
       "      <td>15634602</td>\n",
       "      <td>619</td>\n",
       "      <td>France</td>\n",
       "      <td>Female</td>\n",
       "      <td>42</td>\n",
       "      <td>2</td>\n",
       "      <td>0.00</td>\n",
       "      <td>1</td>\n",
       "      <td>1</td>\n",
       "      <td>1</td>\n",
       "      <td>101348.88</td>\n",
       "      <td>1</td>\n",
       "    </tr>\n",
       "    <tr>\n",
       "      <th>1</th>\n",
       "      <td>15647311</td>\n",
       "      <td>608</td>\n",
       "      <td>Spain</td>\n",
       "      <td>Female</td>\n",
       "      <td>41</td>\n",
       "      <td>1</td>\n",
       "      <td>83807.86</td>\n",
       "      <td>1</td>\n",
       "      <td>0</td>\n",
       "      <td>1</td>\n",
       "      <td>112542.58</td>\n",
       "      <td>0</td>\n",
       "    </tr>\n",
       "    <tr>\n",
       "      <th>2</th>\n",
       "      <td>15619304</td>\n",
       "      <td>502</td>\n",
       "      <td>France</td>\n",
       "      <td>Female</td>\n",
       "      <td>42</td>\n",
       "      <td>8</td>\n",
       "      <td>159660.80</td>\n",
       "      <td>3</td>\n",
       "      <td>1</td>\n",
       "      <td>0</td>\n",
       "      <td>113931.57</td>\n",
       "      <td>1</td>\n",
       "    </tr>\n",
       "    <tr>\n",
       "      <th>3</th>\n",
       "      <td>15701354</td>\n",
       "      <td>699</td>\n",
       "      <td>France</td>\n",
       "      <td>Female</td>\n",
       "      <td>39</td>\n",
       "      <td>1</td>\n",
       "      <td>0.00</td>\n",
       "      <td>2</td>\n",
       "      <td>0</td>\n",
       "      <td>0</td>\n",
       "      <td>93826.63</td>\n",
       "      <td>0</td>\n",
       "    </tr>\n",
       "    <tr>\n",
       "      <th>4</th>\n",
       "      <td>15737888</td>\n",
       "      <td>850</td>\n",
       "      <td>Spain</td>\n",
       "      <td>Female</td>\n",
       "      <td>43</td>\n",
       "      <td>2</td>\n",
       "      <td>125510.82</td>\n",
       "      <td>1</td>\n",
       "      <td>1</td>\n",
       "      <td>1</td>\n",
       "      <td>79084.10</td>\n",
       "      <td>0</td>\n",
       "    </tr>\n",
       "    <tr>\n",
       "      <th>...</th>\n",
       "      <td>...</td>\n",
       "      <td>...</td>\n",
       "      <td>...</td>\n",
       "      <td>...</td>\n",
       "      <td>...</td>\n",
       "      <td>...</td>\n",
       "      <td>...</td>\n",
       "      <td>...</td>\n",
       "      <td>...</td>\n",
       "      <td>...</td>\n",
       "      <td>...</td>\n",
       "      <td>...</td>\n",
       "    </tr>\n",
       "    <tr>\n",
       "      <th>9995</th>\n",
       "      <td>15606229</td>\n",
       "      <td>771</td>\n",
       "      <td>France</td>\n",
       "      <td>Male</td>\n",
       "      <td>39</td>\n",
       "      <td>5</td>\n",
       "      <td>0.00</td>\n",
       "      <td>2</td>\n",
       "      <td>1</td>\n",
       "      <td>0</td>\n",
       "      <td>96270.64</td>\n",
       "      <td>0</td>\n",
       "    </tr>\n",
       "    <tr>\n",
       "      <th>9996</th>\n",
       "      <td>15569892</td>\n",
       "      <td>516</td>\n",
       "      <td>France</td>\n",
       "      <td>Male</td>\n",
       "      <td>35</td>\n",
       "      <td>10</td>\n",
       "      <td>57369.61</td>\n",
       "      <td>1</td>\n",
       "      <td>1</td>\n",
       "      <td>1</td>\n",
       "      <td>101699.77</td>\n",
       "      <td>0</td>\n",
       "    </tr>\n",
       "    <tr>\n",
       "      <th>9997</th>\n",
       "      <td>15584532</td>\n",
       "      <td>709</td>\n",
       "      <td>France</td>\n",
       "      <td>Female</td>\n",
       "      <td>36</td>\n",
       "      <td>7</td>\n",
       "      <td>0.00</td>\n",
       "      <td>1</td>\n",
       "      <td>0</td>\n",
       "      <td>1</td>\n",
       "      <td>42085.58</td>\n",
       "      <td>1</td>\n",
       "    </tr>\n",
       "    <tr>\n",
       "      <th>9998</th>\n",
       "      <td>15682355</td>\n",
       "      <td>772</td>\n",
       "      <td>Germany</td>\n",
       "      <td>Male</td>\n",
       "      <td>42</td>\n",
       "      <td>3</td>\n",
       "      <td>75075.31</td>\n",
       "      <td>2</td>\n",
       "      <td>1</td>\n",
       "      <td>0</td>\n",
       "      <td>92888.52</td>\n",
       "      <td>1</td>\n",
       "    </tr>\n",
       "    <tr>\n",
       "      <th>9999</th>\n",
       "      <td>15628319</td>\n",
       "      <td>792</td>\n",
       "      <td>France</td>\n",
       "      <td>Female</td>\n",
       "      <td>28</td>\n",
       "      <td>4</td>\n",
       "      <td>130142.79</td>\n",
       "      <td>1</td>\n",
       "      <td>1</td>\n",
       "      <td>0</td>\n",
       "      <td>38190.78</td>\n",
       "      <td>0</td>\n",
       "    </tr>\n",
       "  </tbody>\n",
       "</table>\n",
       "<p>10000 rows × 12 columns</p>\n",
       "</div>"
      ],
      "text/plain": [
       "      customer_id  credit_score  country  gender  age  tenure    balance  \\\n",
       "0        15634602           619   France  Female   42       2       0.00   \n",
       "1        15647311           608    Spain  Female   41       1   83807.86   \n",
       "2        15619304           502   France  Female   42       8  159660.80   \n",
       "3        15701354           699   France  Female   39       1       0.00   \n",
       "4        15737888           850    Spain  Female   43       2  125510.82   \n",
       "...           ...           ...      ...     ...  ...     ...        ...   \n",
       "9995     15606229           771   France    Male   39       5       0.00   \n",
       "9996     15569892           516   France    Male   35      10   57369.61   \n",
       "9997     15584532           709   France  Female   36       7       0.00   \n",
       "9998     15682355           772  Germany    Male   42       3   75075.31   \n",
       "9999     15628319           792   France  Female   28       4  130142.79   \n",
       "\n",
       "      products_number  credit_card  active_member  estimated_salary  churn  \n",
       "0                   1            1              1         101348.88      1  \n",
       "1                   1            0              1         112542.58      0  \n",
       "2                   3            1              0         113931.57      1  \n",
       "3                   2            0              0          93826.63      0  \n",
       "4                   1            1              1          79084.10      0  \n",
       "...               ...          ...            ...               ...    ...  \n",
       "9995                2            1              0          96270.64      0  \n",
       "9996                1            1              1         101699.77      0  \n",
       "9997                1            0              1          42085.58      1  \n",
       "9998                2            1              0          92888.52      1  \n",
       "9999                1            1              0          38190.78      0  \n",
       "\n",
       "[10000 rows x 12 columns]"
      ]
     },
     "execution_count": 79,
     "metadata": {},
     "output_type": "execute_result"
    }
   ],
   "source": [
    "dataset = df.copy()\n",
    "dataset"
   ]
  },
  {
   "cell_type": "code",
   "execution_count": 81,
   "metadata": {},
   "outputs": [],
   "source": [
    "#xóa bỏ cột customer_id do không liên quan đến model\n",
    "data = dataset.drop(['customer_id'],axis=1)"
   ]
  },
  {
   "cell_type": "code",
   "execution_count": 83,
   "metadata": {},
   "outputs": [
    {
     "data": {
      "text/html": [
       "<div>\n",
       "<style scoped>\n",
       "    .dataframe tbody tr th:only-of-type {\n",
       "        vertical-align: middle;\n",
       "    }\n",
       "\n",
       "    .dataframe tbody tr th {\n",
       "        vertical-align: top;\n",
       "    }\n",
       "\n",
       "    .dataframe thead th {\n",
       "        text-align: right;\n",
       "    }\n",
       "</style>\n",
       "<table border=\"1\" class=\"dataframe\">\n",
       "  <thead>\n",
       "    <tr style=\"text-align: right;\">\n",
       "      <th></th>\n",
       "      <th>credit_score</th>\n",
       "      <th>age</th>\n",
       "      <th>tenure</th>\n",
       "      <th>balance</th>\n",
       "      <th>products_number</th>\n",
       "      <th>credit_card</th>\n",
       "      <th>active_member</th>\n",
       "      <th>estimated_salary</th>\n",
       "      <th>churn</th>\n",
       "      <th>country_Germany</th>\n",
       "      <th>country_Spain</th>\n",
       "      <th>gender_Male</th>\n",
       "    </tr>\n",
       "  </thead>\n",
       "  <tbody>\n",
       "    <tr>\n",
       "      <th>0</th>\n",
       "      <td>619</td>\n",
       "      <td>42</td>\n",
       "      <td>2</td>\n",
       "      <td>0.00</td>\n",
       "      <td>1</td>\n",
       "      <td>1</td>\n",
       "      <td>1</td>\n",
       "      <td>101348.88</td>\n",
       "      <td>1</td>\n",
       "      <td>False</td>\n",
       "      <td>False</td>\n",
       "      <td>False</td>\n",
       "    </tr>\n",
       "    <tr>\n",
       "      <th>1</th>\n",
       "      <td>608</td>\n",
       "      <td>41</td>\n",
       "      <td>1</td>\n",
       "      <td>83807.86</td>\n",
       "      <td>1</td>\n",
       "      <td>0</td>\n",
       "      <td>1</td>\n",
       "      <td>112542.58</td>\n",
       "      <td>0</td>\n",
       "      <td>False</td>\n",
       "      <td>True</td>\n",
       "      <td>False</td>\n",
       "    </tr>\n",
       "    <tr>\n",
       "      <th>2</th>\n",
       "      <td>502</td>\n",
       "      <td>42</td>\n",
       "      <td>8</td>\n",
       "      <td>159660.80</td>\n",
       "      <td>3</td>\n",
       "      <td>1</td>\n",
       "      <td>0</td>\n",
       "      <td>113931.57</td>\n",
       "      <td>1</td>\n",
       "      <td>False</td>\n",
       "      <td>False</td>\n",
       "      <td>False</td>\n",
       "    </tr>\n",
       "    <tr>\n",
       "      <th>3</th>\n",
       "      <td>699</td>\n",
       "      <td>39</td>\n",
       "      <td>1</td>\n",
       "      <td>0.00</td>\n",
       "      <td>2</td>\n",
       "      <td>0</td>\n",
       "      <td>0</td>\n",
       "      <td>93826.63</td>\n",
       "      <td>0</td>\n",
       "      <td>False</td>\n",
       "      <td>False</td>\n",
       "      <td>False</td>\n",
       "    </tr>\n",
       "    <tr>\n",
       "      <th>4</th>\n",
       "      <td>850</td>\n",
       "      <td>43</td>\n",
       "      <td>2</td>\n",
       "      <td>125510.82</td>\n",
       "      <td>1</td>\n",
       "      <td>1</td>\n",
       "      <td>1</td>\n",
       "      <td>79084.10</td>\n",
       "      <td>0</td>\n",
       "      <td>False</td>\n",
       "      <td>True</td>\n",
       "      <td>False</td>\n",
       "    </tr>\n",
       "    <tr>\n",
       "      <th>...</th>\n",
       "      <td>...</td>\n",
       "      <td>...</td>\n",
       "      <td>...</td>\n",
       "      <td>...</td>\n",
       "      <td>...</td>\n",
       "      <td>...</td>\n",
       "      <td>...</td>\n",
       "      <td>...</td>\n",
       "      <td>...</td>\n",
       "      <td>...</td>\n",
       "      <td>...</td>\n",
       "      <td>...</td>\n",
       "    </tr>\n",
       "    <tr>\n",
       "      <th>9995</th>\n",
       "      <td>771</td>\n",
       "      <td>39</td>\n",
       "      <td>5</td>\n",
       "      <td>0.00</td>\n",
       "      <td>2</td>\n",
       "      <td>1</td>\n",
       "      <td>0</td>\n",
       "      <td>96270.64</td>\n",
       "      <td>0</td>\n",
       "      <td>False</td>\n",
       "      <td>False</td>\n",
       "      <td>True</td>\n",
       "    </tr>\n",
       "    <tr>\n",
       "      <th>9996</th>\n",
       "      <td>516</td>\n",
       "      <td>35</td>\n",
       "      <td>10</td>\n",
       "      <td>57369.61</td>\n",
       "      <td>1</td>\n",
       "      <td>1</td>\n",
       "      <td>1</td>\n",
       "      <td>101699.77</td>\n",
       "      <td>0</td>\n",
       "      <td>False</td>\n",
       "      <td>False</td>\n",
       "      <td>True</td>\n",
       "    </tr>\n",
       "    <tr>\n",
       "      <th>9997</th>\n",
       "      <td>709</td>\n",
       "      <td>36</td>\n",
       "      <td>7</td>\n",
       "      <td>0.00</td>\n",
       "      <td>1</td>\n",
       "      <td>0</td>\n",
       "      <td>1</td>\n",
       "      <td>42085.58</td>\n",
       "      <td>1</td>\n",
       "      <td>False</td>\n",
       "      <td>False</td>\n",
       "      <td>False</td>\n",
       "    </tr>\n",
       "    <tr>\n",
       "      <th>9998</th>\n",
       "      <td>772</td>\n",
       "      <td>42</td>\n",
       "      <td>3</td>\n",
       "      <td>75075.31</td>\n",
       "      <td>2</td>\n",
       "      <td>1</td>\n",
       "      <td>0</td>\n",
       "      <td>92888.52</td>\n",
       "      <td>1</td>\n",
       "      <td>True</td>\n",
       "      <td>False</td>\n",
       "      <td>True</td>\n",
       "    </tr>\n",
       "    <tr>\n",
       "      <th>9999</th>\n",
       "      <td>792</td>\n",
       "      <td>28</td>\n",
       "      <td>4</td>\n",
       "      <td>130142.79</td>\n",
       "      <td>1</td>\n",
       "      <td>1</td>\n",
       "      <td>0</td>\n",
       "      <td>38190.78</td>\n",
       "      <td>0</td>\n",
       "      <td>False</td>\n",
       "      <td>False</td>\n",
       "      <td>False</td>\n",
       "    </tr>\n",
       "  </tbody>\n",
       "</table>\n",
       "<p>10000 rows × 12 columns</p>\n",
       "</div>"
      ],
      "text/plain": [
       "      credit_score  age  tenure    balance  products_number  credit_card  \\\n",
       "0              619   42       2       0.00                1            1   \n",
       "1              608   41       1   83807.86                1            0   \n",
       "2              502   42       8  159660.80                3            1   \n",
       "3              699   39       1       0.00                2            0   \n",
       "4              850   43       2  125510.82                1            1   \n",
       "...            ...  ...     ...        ...              ...          ...   \n",
       "9995           771   39       5       0.00                2            1   \n",
       "9996           516   35      10   57369.61                1            1   \n",
       "9997           709   36       7       0.00                1            0   \n",
       "9998           772   42       3   75075.31                2            1   \n",
       "9999           792   28       4  130142.79                1            1   \n",
       "\n",
       "      active_member  estimated_salary  churn  country_Germany  country_Spain  \\\n",
       "0                 1         101348.88      1            False          False   \n",
       "1                 1         112542.58      0            False           True   \n",
       "2                 0         113931.57      1            False          False   \n",
       "3                 0          93826.63      0            False          False   \n",
       "4                 1          79084.10      0            False           True   \n",
       "...             ...               ...    ...              ...            ...   \n",
       "9995              0          96270.64      0            False          False   \n",
       "9996              1         101699.77      0            False          False   \n",
       "9997              1          42085.58      1            False          False   \n",
       "9998              0          92888.52      1             True          False   \n",
       "9999              0          38190.78      0            False          False   \n",
       "\n",
       "      gender_Male  \n",
       "0           False  \n",
       "1           False  \n",
       "2           False  \n",
       "3           False  \n",
       "4           False  \n",
       "...           ...  \n",
       "9995         True  \n",
       "9996         True  \n",
       "9997        False  \n",
       "9998         True  \n",
       "9999        False  \n",
       "\n",
       "[10000 rows x 12 columns]"
      ]
     },
     "execution_count": 83,
     "metadata": {},
     "output_type": "execute_result"
    }
   ],
   "source": [
    "# one hot encoding\n",
    "data_new = pd.get_dummies(data,drop_first=True)\n",
    "data_new\n"
   ]
  },
  {
   "cell_type": "code",
   "execution_count": 86,
   "metadata": {},
   "outputs": [
    {
     "name": "stdout",
     "output_type": "stream",
     "text": [
      "<class 'pandas.core.frame.DataFrame'>\n",
      "RangeIndex: 10000 entries, 0 to 9999\n",
      "Data columns (total 12 columns):\n",
      " #   Column            Non-Null Count  Dtype  \n",
      "---  ------            --------------  -----  \n",
      " 0   credit_score      10000 non-null  int64  \n",
      " 1   age               10000 non-null  int64  \n",
      " 2   tenure            10000 non-null  int64  \n",
      " 3   balance           10000 non-null  float64\n",
      " 4   products_number   10000 non-null  int64  \n",
      " 5   credit_card       10000 non-null  int64  \n",
      " 6   active_member     10000 non-null  int64  \n",
      " 7   estimated_salary  10000 non-null  float64\n",
      " 8   churn             10000 non-null  int64  \n",
      " 9   country_Germany   10000 non-null  bool   \n",
      " 10  country_Spain     10000 non-null  bool   \n",
      " 11  gender_Male       10000 non-null  bool   \n",
      "dtypes: bool(3), float64(2), int64(7)\n",
      "memory usage: 732.6 KB\n"
     ]
    }
   ],
   "source": [
    "data_new.info()"
   ]
  },
  {
   "cell_type": "code",
   "execution_count": 88,
   "metadata": {},
   "outputs": [],
   "source": [
    "import seaborn as sns"
   ]
  },
  {
   "cell_type": "code",
   "execution_count": 90,
   "metadata": {},
   "outputs": [
    {
     "data": {
      "text/html": [
       "<style type=\"text/css\">\n",
       "#T_dae94_row0_col0, #T_dae94_row1_col1, #T_dae94_row2_col2, #T_dae94_row3_col3, #T_dae94_row4_col4, #T_dae94_row5_col5, #T_dae94_row6_col6, #T_dae94_row7_col7, #T_dae94_row8_col8, #T_dae94_row9_col9, #T_dae94_row10_col10, #T_dae94_row11_col11 {\n",
       "  background-color: #b40426;\n",
       "  color: #f1f1f1;\n",
       "}\n",
       "#T_dae94_row0_col1, #T_dae94_row2_col0, #T_dae94_row3_col7, #T_dae94_row4_col7, #T_dae94_row7_col0, #T_dae94_row9_col2, #T_dae94_row9_col5, #T_dae94_row11_col0 {\n",
       "  background-color: #4257c9;\n",
       "  color: #f1f1f1;\n",
       "}\n",
       "#T_dae94_row0_col2, #T_dae94_row10_col0, #T_dae94_row10_col1 {\n",
       "  background-color: #4358cb;\n",
       "  color: #f1f1f1;\n",
       "}\n",
       "#T_dae94_row0_col3, #T_dae94_row3_col8, #T_dae94_row5_col4 {\n",
       "  background-color: #88abfd;\n",
       "  color: #000000;\n",
       "}\n",
       "#T_dae94_row0_col4, #T_dae94_row2_col4, #T_dae94_row7_col3, #T_dae94_row7_col4, #T_dae94_row7_col10, #T_dae94_row11_col3 {\n",
       "  background-color: #8badfd;\n",
       "  color: #000000;\n",
       "}\n",
       "#T_dae94_row0_col5, #T_dae94_row0_col7 {\n",
       "  background-color: #3d50c3;\n",
       "  color: #f1f1f1;\n",
       "}\n",
       "#T_dae94_row0_col6 {\n",
       "  background-color: #6c8ff1;\n",
       "  color: #f1f1f1;\n",
       "}\n",
       "#T_dae94_row0_col8, #T_dae94_row2_col6, #T_dae94_row2_col11, #T_dae94_row6_col1, #T_dae94_row10_col11 {\n",
       "  background-color: #5d7ce6;\n",
       "  color: #f1f1f1;\n",
       "}\n",
       "#T_dae94_row0_col9, #T_dae94_row0_col10, #T_dae94_row2_col10 {\n",
       "  background-color: #8db0fe;\n",
       "  color: #000000;\n",
       "}\n",
       "#T_dae94_row0_col11, #T_dae94_row4_col8 {\n",
       "  background-color: #5673e0;\n",
       "  color: #f1f1f1;\n",
       "}\n",
       "#T_dae94_row1_col0, #T_dae94_row2_col1, #T_dae94_row5_col0, #T_dae94_row7_col1, #T_dae94_row8_col7, #T_dae94_row9_col7, #T_dae94_row11_col5 {\n",
       "  background-color: #4055c8;\n",
       "  color: #f1f1f1;\n",
       "}\n",
       "#T_dae94_row1_col2, #T_dae94_row2_col7, #T_dae94_row3_col2, #T_dae94_row4_col5, #T_dae94_row5_col1 {\n",
       "  background-color: #3f53c6;\n",
       "  color: #f1f1f1;\n",
       "}\n",
       "#T_dae94_row1_col3, #T_dae94_row4_col10, #T_dae94_row5_col9, #T_dae94_row7_col9 {\n",
       "  background-color: #8fb1fe;\n",
       "  color: #000000;\n",
       "}\n",
       "#T_dae94_row1_col4, #T_dae94_row1_col6, #T_dae94_row8_col10 {\n",
       "  background-color: #7ea1fa;\n",
       "  color: #f1f1f1;\n",
       "}\n",
       "#T_dae94_row1_col5, #T_dae94_row3_col4, #T_dae94_row3_col5, #T_dae94_row4_col1, #T_dae94_row4_col3, #T_dae94_row5_col7, #T_dae94_row6_col2, #T_dae94_row6_col5, #T_dae94_row6_col7, #T_dae94_row6_col8, #T_dae94_row8_col0, #T_dae94_row8_col6, #T_dae94_row8_col11, #T_dae94_row9_col10, #T_dae94_row10_col5, #T_dae94_row10_col9, #T_dae94_row11_col1, #T_dae94_row11_col7 {\n",
       "  background-color: #3b4cc0;\n",
       "  color: #f1f1f1;\n",
       "}\n",
       "#T_dae94_row1_col7, #T_dae94_row7_col5, #T_dae94_row8_col5, #T_dae94_row10_col7 {\n",
       "  background-color: #3c4ec2;\n",
       "  color: #f1f1f1;\n",
       "}\n",
       "#T_dae94_row1_col8, #T_dae94_row8_col9 {\n",
       "  background-color: #bad0f8;\n",
       "  color: #000000;\n",
       "}\n",
       "#T_dae94_row1_col9, #T_dae94_row9_col8 {\n",
       "  background-color: #98b9ff;\n",
       "  color: #000000;\n",
       "}\n",
       "#T_dae94_row1_col10, #T_dae94_row2_col9 {\n",
       "  background-color: #8caffe;\n",
       "  color: #000000;\n",
       "}\n",
       "#T_dae94_row1_col11, #T_dae94_row9_col11 {\n",
       "  background-color: #506bda;\n",
       "  color: #f1f1f1;\n",
       "}\n",
       "#T_dae94_row2_col3, #T_dae94_row6_col3, #T_dae94_row9_col4 {\n",
       "  background-color: #84a7fc;\n",
       "  color: #f1f1f1;\n",
       "}\n",
       "#T_dae94_row2_col5, #T_dae94_row4_col0 {\n",
       "  background-color: #455cce;\n",
       "  color: #f1f1f1;\n",
       "}\n",
       "#T_dae94_row2_col8, #T_dae94_row5_col6 {\n",
       "  background-color: #6180e9;\n",
       "  color: #f1f1f1;\n",
       "}\n",
       "#T_dae94_row3_col0, #T_dae94_row7_col2, #T_dae94_row9_col0, #T_dae94_row10_col2 {\n",
       "  background-color: #445acc;\n",
       "  color: #f1f1f1;\n",
       "}\n",
       "#T_dae94_row3_col1 {\n",
       "  background-color: #4b64d5;\n",
       "  color: #f1f1f1;\n",
       "}\n",
       "#T_dae94_row3_col6, #T_dae94_row5_col8, #T_dae94_row7_col6 {\n",
       "  background-color: #6282ea;\n",
       "  color: #f1f1f1;\n",
       "}\n",
       "#T_dae94_row3_col9 {\n",
       "  background-color: #e9d5cb;\n",
       "  color: #000000;\n",
       "}\n",
       "#T_dae94_row3_col10, #T_dae94_row7_col8 {\n",
       "  background-color: #688aef;\n",
       "  color: #f1f1f1;\n",
       "}\n",
       "#T_dae94_row3_col11 {\n",
       "  background-color: #5b7ae5;\n",
       "  color: #f1f1f1;\n",
       "}\n",
       "#T_dae94_row4_col2, #T_dae94_row11_col2, #T_dae94_row11_col8 {\n",
       "  background-color: #465ecf;\n",
       "  color: #f1f1f1;\n",
       "}\n",
       "#T_dae94_row4_col6 {\n",
       "  background-color: #6788ee;\n",
       "  color: #f1f1f1;\n",
       "}\n",
       "#T_dae94_row4_col9, #T_dae94_row5_col10, #T_dae94_row6_col4, #T_dae94_row10_col4 {\n",
       "  background-color: #89acfd;\n",
       "  color: #000000;\n",
       "}\n",
       "#T_dae94_row4_col11, #T_dae94_row9_col1 {\n",
       "  background-color: #516ddb;\n",
       "  color: #f1f1f1;\n",
       "}\n",
       "#T_dae94_row5_col2 {\n",
       "  background-color: #4961d2;\n",
       "  color: #f1f1f1;\n",
       "}\n",
       "#T_dae94_row5_col3 {\n",
       "  background-color: #82a6fb;\n",
       "  color: #f1f1f1;\n",
       "}\n",
       "#T_dae94_row5_col11 {\n",
       "  background-color: #5977e3;\n",
       "  color: #f1f1f1;\n",
       "}\n",
       "#T_dae94_row6_col0 {\n",
       "  background-color: #4a63d3;\n",
       "  color: #f1f1f1;\n",
       "}\n",
       "#T_dae94_row6_col9, #T_dae94_row11_col9 {\n",
       "  background-color: #86a9fc;\n",
       "  color: #f1f1f1;\n",
       "}\n",
       "#T_dae94_row6_col10, #T_dae94_row11_col10 {\n",
       "  background-color: #92b4fe;\n",
       "  color: #000000;\n",
       "}\n",
       "#T_dae94_row6_col11 {\n",
       "  background-color: #5e7de7;\n",
       "  color: #f1f1f1;\n",
       "}\n",
       "#T_dae94_row7_col11, #T_dae94_row10_col8 {\n",
       "  background-color: #5572df;\n",
       "  color: #f1f1f1;\n",
       "}\n",
       "#T_dae94_row8_col1 {\n",
       "  background-color: #a1c0ff;\n",
       "  color: #000000;\n",
       "}\n",
       "#T_dae94_row8_col2 {\n",
       "  background-color: #3e51c5;\n",
       "  color: #f1f1f1;\n",
       "}\n",
       "#T_dae94_row8_col3 {\n",
       "  background-color: #a6c4fe;\n",
       "  color: #000000;\n",
       "}\n",
       "#T_dae94_row8_col4 {\n",
       "  background-color: #7a9df8;\n",
       "  color: #f1f1f1;\n",
       "}\n",
       "#T_dae94_row9_col3 {\n",
       "  background-color: #e7d7ce;\n",
       "  color: #000000;\n",
       "}\n",
       "#T_dae94_row9_col6 {\n",
       "  background-color: #5f7fe8;\n",
       "  color: #f1f1f1;\n",
       "}\n",
       "#T_dae94_row10_col3 {\n",
       "  background-color: #6384eb;\n",
       "  color: #f1f1f1;\n",
       "}\n",
       "#T_dae94_row10_col6 {\n",
       "  background-color: #6a8bef;\n",
       "  color: #f1f1f1;\n",
       "}\n",
       "#T_dae94_row11_col4 {\n",
       "  background-color: #81a4fb;\n",
       "  color: #f1f1f1;\n",
       "}\n",
       "#T_dae94_row11_col6 {\n",
       "  background-color: #6b8df0;\n",
       "  color: #f1f1f1;\n",
       "}\n",
       "</style>\n",
       "<table id=\"T_dae94\">\n",
       "  <thead>\n",
       "    <tr>\n",
       "      <th class=\"blank level0\" >&nbsp;</th>\n",
       "      <th id=\"T_dae94_level0_col0\" class=\"col_heading level0 col0\" >credit_score</th>\n",
       "      <th id=\"T_dae94_level0_col1\" class=\"col_heading level0 col1\" >age</th>\n",
       "      <th id=\"T_dae94_level0_col2\" class=\"col_heading level0 col2\" >tenure</th>\n",
       "      <th id=\"T_dae94_level0_col3\" class=\"col_heading level0 col3\" >balance</th>\n",
       "      <th id=\"T_dae94_level0_col4\" class=\"col_heading level0 col4\" >products_number</th>\n",
       "      <th id=\"T_dae94_level0_col5\" class=\"col_heading level0 col5\" >credit_card</th>\n",
       "      <th id=\"T_dae94_level0_col6\" class=\"col_heading level0 col6\" >active_member</th>\n",
       "      <th id=\"T_dae94_level0_col7\" class=\"col_heading level0 col7\" >estimated_salary</th>\n",
       "      <th id=\"T_dae94_level0_col8\" class=\"col_heading level0 col8\" >churn</th>\n",
       "      <th id=\"T_dae94_level0_col9\" class=\"col_heading level0 col9\" >country_Germany</th>\n",
       "      <th id=\"T_dae94_level0_col10\" class=\"col_heading level0 col10\" >country_Spain</th>\n",
       "      <th id=\"T_dae94_level0_col11\" class=\"col_heading level0 col11\" >gender_Male</th>\n",
       "    </tr>\n",
       "  </thead>\n",
       "  <tbody>\n",
       "    <tr>\n",
       "      <th id=\"T_dae94_level0_row0\" class=\"row_heading level0 row0\" >credit_score</th>\n",
       "      <td id=\"T_dae94_row0_col0\" class=\"data row0 col0\" >1.00</td>\n",
       "      <td id=\"T_dae94_row0_col1\" class=\"data row0 col1\" >-0.00</td>\n",
       "      <td id=\"T_dae94_row0_col2\" class=\"data row0 col2\" >0.00</td>\n",
       "      <td id=\"T_dae94_row0_col3\" class=\"data row0 col3\" >0.01</td>\n",
       "      <td id=\"T_dae94_row0_col4\" class=\"data row0 col4\" >0.01</td>\n",
       "      <td id=\"T_dae94_row0_col5\" class=\"data row0 col5\" >-0.01</td>\n",
       "      <td id=\"T_dae94_row0_col6\" class=\"data row0 col6\" >0.03</td>\n",
       "      <td id=\"T_dae94_row0_col7\" class=\"data row0 col7\" >-0.00</td>\n",
       "      <td id=\"T_dae94_row0_col8\" class=\"data row0 col8\" >-0.03</td>\n",
       "      <td id=\"T_dae94_row0_col9\" class=\"data row0 col9\" >0.01</td>\n",
       "      <td id=\"T_dae94_row0_col10\" class=\"data row0 col10\" >0.00</td>\n",
       "      <td id=\"T_dae94_row0_col11\" class=\"data row0 col11\" >-0.00</td>\n",
       "    </tr>\n",
       "    <tr>\n",
       "      <th id=\"T_dae94_level0_row1\" class=\"row_heading level0 row1\" >age</th>\n",
       "      <td id=\"T_dae94_row1_col0\" class=\"data row1 col0\" >-0.00</td>\n",
       "      <td id=\"T_dae94_row1_col1\" class=\"data row1 col1\" >1.00</td>\n",
       "      <td id=\"T_dae94_row1_col2\" class=\"data row1 col2\" >-0.01</td>\n",
       "      <td id=\"T_dae94_row1_col3\" class=\"data row1 col3\" >0.03</td>\n",
       "      <td id=\"T_dae94_row1_col4\" class=\"data row1 col4\" >-0.03</td>\n",
       "      <td id=\"T_dae94_row1_col5\" class=\"data row1 col5\" >-0.01</td>\n",
       "      <td id=\"T_dae94_row1_col6\" class=\"data row1 col6\" >0.09</td>\n",
       "      <td id=\"T_dae94_row1_col7\" class=\"data row1 col7\" >-0.01</td>\n",
       "      <td id=\"T_dae94_row1_col8\" class=\"data row1 col8\" >0.29</td>\n",
       "      <td id=\"T_dae94_row1_col9\" class=\"data row1 col9\" >0.05</td>\n",
       "      <td id=\"T_dae94_row1_col10\" class=\"data row1 col10\" >-0.00</td>\n",
       "      <td id=\"T_dae94_row1_col11\" class=\"data row1 col11\" >-0.03</td>\n",
       "    </tr>\n",
       "    <tr>\n",
       "      <th id=\"T_dae94_level0_row2\" class=\"row_heading level0 row2\" >tenure</th>\n",
       "      <td id=\"T_dae94_row2_col0\" class=\"data row2 col0\" >0.00</td>\n",
       "      <td id=\"T_dae94_row2_col1\" class=\"data row2 col1\" >-0.01</td>\n",
       "      <td id=\"T_dae94_row2_col2\" class=\"data row2 col2\" >1.00</td>\n",
       "      <td id=\"T_dae94_row2_col3\" class=\"data row2 col3\" >-0.01</td>\n",
       "      <td id=\"T_dae94_row2_col4\" class=\"data row2 col4\" >0.01</td>\n",
       "      <td id=\"T_dae94_row2_col5\" class=\"data row2 col5\" >0.02</td>\n",
       "      <td id=\"T_dae94_row2_col6\" class=\"data row2 col6\" >-0.03</td>\n",
       "      <td id=\"T_dae94_row2_col7\" class=\"data row2 col7\" >0.01</td>\n",
       "      <td id=\"T_dae94_row2_col8\" class=\"data row2 col8\" >-0.01</td>\n",
       "      <td id=\"T_dae94_row2_col9\" class=\"data row2 col9\" >-0.00</td>\n",
       "      <td id=\"T_dae94_row2_col10\" class=\"data row2 col10\" >0.00</td>\n",
       "      <td id=\"T_dae94_row2_col11\" class=\"data row2 col11\" >0.01</td>\n",
       "    </tr>\n",
       "    <tr>\n",
       "      <th id=\"T_dae94_level0_row3\" class=\"row_heading level0 row3\" >balance</th>\n",
       "      <td id=\"T_dae94_row3_col0\" class=\"data row3 col0\" >0.01</td>\n",
       "      <td id=\"T_dae94_row3_col1\" class=\"data row3 col1\" >0.03</td>\n",
       "      <td id=\"T_dae94_row3_col2\" class=\"data row3 col2\" >-0.01</td>\n",
       "      <td id=\"T_dae94_row3_col3\" class=\"data row3 col3\" >1.00</td>\n",
       "      <td id=\"T_dae94_row3_col4\" class=\"data row3 col4\" >-0.30</td>\n",
       "      <td id=\"T_dae94_row3_col5\" class=\"data row3 col5\" >-0.01</td>\n",
       "      <td id=\"T_dae94_row3_col6\" class=\"data row3 col6\" >-0.01</td>\n",
       "      <td id=\"T_dae94_row3_col7\" class=\"data row3 col7\" >0.01</td>\n",
       "      <td id=\"T_dae94_row3_col8\" class=\"data row3 col8\" >0.12</td>\n",
       "      <td id=\"T_dae94_row3_col9\" class=\"data row3 col9\" >0.40</td>\n",
       "      <td id=\"T_dae94_row3_col10\" class=\"data row3 col10\" >-0.13</td>\n",
       "      <td id=\"T_dae94_row3_col11\" class=\"data row3 col11\" >0.01</td>\n",
       "    </tr>\n",
       "    <tr>\n",
       "      <th id=\"T_dae94_level0_row4\" class=\"row_heading level0 row4\" >products_number</th>\n",
       "      <td id=\"T_dae94_row4_col0\" class=\"data row4 col0\" >0.01</td>\n",
       "      <td id=\"T_dae94_row4_col1\" class=\"data row4 col1\" >-0.03</td>\n",
       "      <td id=\"T_dae94_row4_col2\" class=\"data row4 col2\" >0.01</td>\n",
       "      <td id=\"T_dae94_row4_col3\" class=\"data row4 col3\" >-0.30</td>\n",
       "      <td id=\"T_dae94_row4_col4\" class=\"data row4 col4\" >1.00</td>\n",
       "      <td id=\"T_dae94_row4_col5\" class=\"data row4 col5\" >0.00</td>\n",
       "      <td id=\"T_dae94_row4_col6\" class=\"data row4 col6\" >0.01</td>\n",
       "      <td id=\"T_dae94_row4_col7\" class=\"data row4 col7\" >0.01</td>\n",
       "      <td id=\"T_dae94_row4_col8\" class=\"data row4 col8\" >-0.05</td>\n",
       "      <td id=\"T_dae94_row4_col9\" class=\"data row4 col9\" >-0.01</td>\n",
       "      <td id=\"T_dae94_row4_col10\" class=\"data row4 col10\" >0.01</td>\n",
       "      <td id=\"T_dae94_row4_col11\" class=\"data row4 col11\" >-0.02</td>\n",
       "    </tr>\n",
       "    <tr>\n",
       "      <th id=\"T_dae94_level0_row5\" class=\"row_heading level0 row5\" >credit_card</th>\n",
       "      <td id=\"T_dae94_row5_col0\" class=\"data row5 col0\" >-0.01</td>\n",
       "      <td id=\"T_dae94_row5_col1\" class=\"data row5 col1\" >-0.01</td>\n",
       "      <td id=\"T_dae94_row5_col2\" class=\"data row5 col2\" >0.02</td>\n",
       "      <td id=\"T_dae94_row5_col3\" class=\"data row5 col3\" >-0.01</td>\n",
       "      <td id=\"T_dae94_row5_col4\" class=\"data row5 col4\" >0.00</td>\n",
       "      <td id=\"T_dae94_row5_col5\" class=\"data row5 col5\" >1.00</td>\n",
       "      <td id=\"T_dae94_row5_col6\" class=\"data row5 col6\" >-0.01</td>\n",
       "      <td id=\"T_dae94_row5_col7\" class=\"data row5 col7\" >-0.01</td>\n",
       "      <td id=\"T_dae94_row5_col8\" class=\"data row5 col8\" >-0.01</td>\n",
       "      <td id=\"T_dae94_row5_col9\" class=\"data row5 col9\" >0.01</td>\n",
       "      <td id=\"T_dae94_row5_col10\" class=\"data row5 col10\" >-0.01</td>\n",
       "      <td id=\"T_dae94_row5_col11\" class=\"data row5 col11\" >0.01</td>\n",
       "    </tr>\n",
       "    <tr>\n",
       "      <th id=\"T_dae94_level0_row6\" class=\"row_heading level0 row6\" >active_member</th>\n",
       "      <td id=\"T_dae94_row6_col0\" class=\"data row6 col0\" >0.03</td>\n",
       "      <td id=\"T_dae94_row6_col1\" class=\"data row6 col1\" >0.09</td>\n",
       "      <td id=\"T_dae94_row6_col2\" class=\"data row6 col2\" >-0.03</td>\n",
       "      <td id=\"T_dae94_row6_col3\" class=\"data row6 col3\" >-0.01</td>\n",
       "      <td id=\"T_dae94_row6_col4\" class=\"data row6 col4\" >0.01</td>\n",
       "      <td id=\"T_dae94_row6_col5\" class=\"data row6 col5\" >-0.01</td>\n",
       "      <td id=\"T_dae94_row6_col6\" class=\"data row6 col6\" >1.00</td>\n",
       "      <td id=\"T_dae94_row6_col7\" class=\"data row6 col7\" >-0.01</td>\n",
       "      <td id=\"T_dae94_row6_col8\" class=\"data row6 col8\" >-0.16</td>\n",
       "      <td id=\"T_dae94_row6_col9\" class=\"data row6 col9\" >-0.02</td>\n",
       "      <td id=\"T_dae94_row6_col10\" class=\"data row6 col10\" >0.02</td>\n",
       "      <td id=\"T_dae94_row6_col11\" class=\"data row6 col11\" >0.02</td>\n",
       "    </tr>\n",
       "    <tr>\n",
       "      <th id=\"T_dae94_level0_row7\" class=\"row_heading level0 row7\" >estimated_salary</th>\n",
       "      <td id=\"T_dae94_row7_col0\" class=\"data row7 col0\" >-0.00</td>\n",
       "      <td id=\"T_dae94_row7_col1\" class=\"data row7 col1\" >-0.01</td>\n",
       "      <td id=\"T_dae94_row7_col2\" class=\"data row7 col2\" >0.01</td>\n",
       "      <td id=\"T_dae94_row7_col3\" class=\"data row7 col3\" >0.01</td>\n",
       "      <td id=\"T_dae94_row7_col4\" class=\"data row7 col4\" >0.01</td>\n",
       "      <td id=\"T_dae94_row7_col5\" class=\"data row7 col5\" >-0.01</td>\n",
       "      <td id=\"T_dae94_row7_col6\" class=\"data row7 col6\" >-0.01</td>\n",
       "      <td id=\"T_dae94_row7_col7\" class=\"data row7 col7\" >1.00</td>\n",
       "      <td id=\"T_dae94_row7_col8\" class=\"data row7 col8\" >0.01</td>\n",
       "      <td id=\"T_dae94_row7_col9\" class=\"data row7 col9\" >0.01</td>\n",
       "      <td id=\"T_dae94_row7_col10\" class=\"data row7 col10\" >-0.01</td>\n",
       "      <td id=\"T_dae94_row7_col11\" class=\"data row7 col11\" >-0.01</td>\n",
       "    </tr>\n",
       "    <tr>\n",
       "      <th id=\"T_dae94_level0_row8\" class=\"row_heading level0 row8\" >churn</th>\n",
       "      <td id=\"T_dae94_row8_col0\" class=\"data row8 col0\" >-0.03</td>\n",
       "      <td id=\"T_dae94_row8_col1\" class=\"data row8 col1\" >0.29</td>\n",
       "      <td id=\"T_dae94_row8_col2\" class=\"data row8 col2\" >-0.01</td>\n",
       "      <td id=\"T_dae94_row8_col3\" class=\"data row8 col3\" >0.12</td>\n",
       "      <td id=\"T_dae94_row8_col4\" class=\"data row8 col4\" >-0.05</td>\n",
       "      <td id=\"T_dae94_row8_col5\" class=\"data row8 col5\" >-0.01</td>\n",
       "      <td id=\"T_dae94_row8_col6\" class=\"data row8 col6\" >-0.16</td>\n",
       "      <td id=\"T_dae94_row8_col7\" class=\"data row8 col7\" >0.01</td>\n",
       "      <td id=\"T_dae94_row8_col8\" class=\"data row8 col8\" >1.00</td>\n",
       "      <td id=\"T_dae94_row8_col9\" class=\"data row8 col9\" >0.17</td>\n",
       "      <td id=\"T_dae94_row8_col10\" class=\"data row8 col10\" >-0.05</td>\n",
       "      <td id=\"T_dae94_row8_col11\" class=\"data row8 col11\" >-0.11</td>\n",
       "    </tr>\n",
       "    <tr>\n",
       "      <th id=\"T_dae94_level0_row9\" class=\"row_heading level0 row9\" >country_Germany</th>\n",
       "      <td id=\"T_dae94_row9_col0\" class=\"data row9 col0\" >0.01</td>\n",
       "      <td id=\"T_dae94_row9_col1\" class=\"data row9 col1\" >0.05</td>\n",
       "      <td id=\"T_dae94_row9_col2\" class=\"data row9 col2\" >-0.00</td>\n",
       "      <td id=\"T_dae94_row9_col3\" class=\"data row9 col3\" >0.40</td>\n",
       "      <td id=\"T_dae94_row9_col4\" class=\"data row9 col4\" >-0.01</td>\n",
       "      <td id=\"T_dae94_row9_col5\" class=\"data row9 col5\" >0.01</td>\n",
       "      <td id=\"T_dae94_row9_col6\" class=\"data row9 col6\" >-0.02</td>\n",
       "      <td id=\"T_dae94_row9_col7\" class=\"data row9 col7\" >0.01</td>\n",
       "      <td id=\"T_dae94_row9_col8\" class=\"data row9 col8\" >0.17</td>\n",
       "      <td id=\"T_dae94_row9_col9\" class=\"data row9 col9\" >1.00</td>\n",
       "      <td id=\"T_dae94_row9_col10\" class=\"data row9 col10\" >-0.33</td>\n",
       "      <td id=\"T_dae94_row9_col11\" class=\"data row9 col11\" >-0.02</td>\n",
       "    </tr>\n",
       "    <tr>\n",
       "      <th id=\"T_dae94_level0_row10\" class=\"row_heading level0 row10\" >country_Spain</th>\n",
       "      <td id=\"T_dae94_row10_col0\" class=\"data row10 col0\" >0.00</td>\n",
       "      <td id=\"T_dae94_row10_col1\" class=\"data row10 col1\" >-0.00</td>\n",
       "      <td id=\"T_dae94_row10_col2\" class=\"data row10 col2\" >0.00</td>\n",
       "      <td id=\"T_dae94_row10_col3\" class=\"data row10 col3\" >-0.13</td>\n",
       "      <td id=\"T_dae94_row10_col4\" class=\"data row10 col4\" >0.01</td>\n",
       "      <td id=\"T_dae94_row10_col5\" class=\"data row10 col5\" >-0.01</td>\n",
       "      <td id=\"T_dae94_row10_col6\" class=\"data row10 col6\" >0.02</td>\n",
       "      <td id=\"T_dae94_row10_col7\" class=\"data row10 col7\" >-0.01</td>\n",
       "      <td id=\"T_dae94_row10_col8\" class=\"data row10 col8\" >-0.05</td>\n",
       "      <td id=\"T_dae94_row10_col9\" class=\"data row10 col9\" >-0.33</td>\n",
       "      <td id=\"T_dae94_row10_col10\" class=\"data row10 col10\" >1.00</td>\n",
       "      <td id=\"T_dae94_row10_col11\" class=\"data row10 col11\" >0.02</td>\n",
       "    </tr>\n",
       "    <tr>\n",
       "      <th id=\"T_dae94_level0_row11\" class=\"row_heading level0 row11\" >gender_Male</th>\n",
       "      <td id=\"T_dae94_row11_col0\" class=\"data row11 col0\" >-0.00</td>\n",
       "      <td id=\"T_dae94_row11_col1\" class=\"data row11 col1\" >-0.03</td>\n",
       "      <td id=\"T_dae94_row11_col2\" class=\"data row11 col2\" >0.01</td>\n",
       "      <td id=\"T_dae94_row11_col3\" class=\"data row11 col3\" >0.01</td>\n",
       "      <td id=\"T_dae94_row11_col4\" class=\"data row11 col4\" >-0.02</td>\n",
       "      <td id=\"T_dae94_row11_col5\" class=\"data row11 col5\" >0.01</td>\n",
       "      <td id=\"T_dae94_row11_col6\" class=\"data row11 col6\" >0.02</td>\n",
       "      <td id=\"T_dae94_row11_col7\" class=\"data row11 col7\" >-0.01</td>\n",
       "      <td id=\"T_dae94_row11_col8\" class=\"data row11 col8\" >-0.11</td>\n",
       "      <td id=\"T_dae94_row11_col9\" class=\"data row11 col9\" >-0.02</td>\n",
       "      <td id=\"T_dae94_row11_col10\" class=\"data row11 col10\" >0.02</td>\n",
       "      <td id=\"T_dae94_row11_col11\" class=\"data row11 col11\" >1.00</td>\n",
       "    </tr>\n",
       "  </tbody>\n",
       "</table>\n"
      ],
      "text/plain": [
       "<pandas.io.formats.style.Styler at 0x247b8f5e890>"
      ]
     },
     "execution_count": 90,
     "metadata": {},
     "output_type": "execute_result"
    }
   ],
   "source": [
    "#check correlation\n",
    "corr = data_new.corr()\n",
    "corr.style.format(precision=2).background_gradient(cmap ='coolwarm')"
   ]
  },
  {
   "cell_type": "code",
   "execution_count": null,
   "metadata": {},
   "outputs": [],
   "source": [
    "#ngoài đường chéo chính không xuất hiện cột nào có hệ số correlation cao nên ko cần bỏ cột nào"
   ]
  },
  {
   "cell_type": "markdown",
   "metadata": {},
   "source": [
    "### Xây dựng Model"
   ]
  },
  {
   "cell_type": "code",
   "execution_count": null,
   "metadata": {},
   "outputs": [],
   "source": [
    "#Các cột 'Credit_score', 'age','balance ', 'tenure', 'products_number','estimated_salary'\n",
    "#có vùng phân bố dữ liệu khác nhau -> Sẽ Scale tất cả về vùng dữ liệu [0,1] để model hoạt động tốt hơn"
   ]
  },
  {
   "cell_type": "code",
   "execution_count": 91,
   "metadata": {},
   "outputs": [],
   "source": [
    "from sklearn.model_selection import train_test_split\n",
    "from sklearn.preprocessing import MinMaxScaler\n",
    "from sklearn.metrics import classification_report\n",
    "from sklearn.metrics import accuracy_score, precision_score,recall_score, f1_score\n",
    "from sklearn.linear_model import LogisticRegression"
   ]
  },
  {
   "cell_type": "code",
   "execution_count": 119,
   "metadata": {},
   "outputs": [],
   "source": [
    "X = data_new.drop(['churn'],axis=1)\n",
    "y = data_new['churn']\n",
    "X_train, X_test, y_train, y_test = train_test_split(X,y, test_size = 0.2, random_state = 12)\n"
   ]
  },
  {
   "cell_type": "code",
   "execution_count": 120,
   "metadata": {},
   "outputs": [
    {
     "data": {
      "text/html": [
       "<div>\n",
       "<style scoped>\n",
       "    .dataframe tbody tr th:only-of-type {\n",
       "        vertical-align: middle;\n",
       "    }\n",
       "\n",
       "    .dataframe tbody tr th {\n",
       "        vertical-align: top;\n",
       "    }\n",
       "\n",
       "    .dataframe thead th {\n",
       "        text-align: right;\n",
       "    }\n",
       "</style>\n",
       "<table border=\"1\" class=\"dataframe\">\n",
       "  <thead>\n",
       "    <tr style=\"text-align: right;\">\n",
       "      <th></th>\n",
       "      <th>credit_score</th>\n",
       "      <th>age</th>\n",
       "      <th>tenure</th>\n",
       "      <th>balance</th>\n",
       "      <th>products_number</th>\n",
       "      <th>credit_card</th>\n",
       "      <th>active_member</th>\n",
       "      <th>estimated_salary</th>\n",
       "      <th>country_Germany</th>\n",
       "      <th>country_Spain</th>\n",
       "      <th>gender_Male</th>\n",
       "    </tr>\n",
       "  </thead>\n",
       "  <tbody>\n",
       "    <tr>\n",
       "      <th>5669</th>\n",
       "      <td>648</td>\n",
       "      <td>33</td>\n",
       "      <td>7</td>\n",
       "      <td>135310.41</td>\n",
       "      <td>2</td>\n",
       "      <td>0</td>\n",
       "      <td>1</td>\n",
       "      <td>171668.20</td>\n",
       "      <td>True</td>\n",
       "      <td>False</td>\n",
       "      <td>True</td>\n",
       "    </tr>\n",
       "    <tr>\n",
       "      <th>8800</th>\n",
       "      <td>691</td>\n",
       "      <td>37</td>\n",
       "      <td>9</td>\n",
       "      <td>149405.18</td>\n",
       "      <td>1</td>\n",
       "      <td>1</td>\n",
       "      <td>1</td>\n",
       "      <td>146411.60</td>\n",
       "      <td>False</td>\n",
       "      <td>False</td>\n",
       "      <td>True</td>\n",
       "    </tr>\n",
       "    <tr>\n",
       "      <th>3205</th>\n",
       "      <td>850</td>\n",
       "      <td>42</td>\n",
       "      <td>8</td>\n",
       "      <td>0.00</td>\n",
       "      <td>1</td>\n",
       "      <td>1</td>\n",
       "      <td>0</td>\n",
       "      <td>19632.64</td>\n",
       "      <td>False</td>\n",
       "      <td>False</td>\n",
       "      <td>False</td>\n",
       "    </tr>\n",
       "    <tr>\n",
       "      <th>8731</th>\n",
       "      <td>727</td>\n",
       "      <td>41</td>\n",
       "      <td>10</td>\n",
       "      <td>0.00</td>\n",
       "      <td>2</td>\n",
       "      <td>0</td>\n",
       "      <td>1</td>\n",
       "      <td>47468.56</td>\n",
       "      <td>False</td>\n",
       "      <td>True</td>\n",
       "      <td>False</td>\n",
       "    </tr>\n",
       "    <tr>\n",
       "      <th>6412</th>\n",
       "      <td>602</td>\n",
       "      <td>53</td>\n",
       "      <td>5</td>\n",
       "      <td>98268.84</td>\n",
       "      <td>1</td>\n",
       "      <td>0</td>\n",
       "      <td>1</td>\n",
       "      <td>45038.29</td>\n",
       "      <td>True</td>\n",
       "      <td>False</td>\n",
       "      <td>False</td>\n",
       "    </tr>\n",
       "  </tbody>\n",
       "</table>\n",
       "</div>"
      ],
      "text/plain": [
       "      credit_score  age  tenure    balance  products_number  credit_card  \\\n",
       "5669           648   33       7  135310.41                2            0   \n",
       "8800           691   37       9  149405.18                1            1   \n",
       "3205           850   42       8       0.00                1            1   \n",
       "8731           727   41      10       0.00                2            0   \n",
       "6412           602   53       5   98268.84                1            0   \n",
       "\n",
       "      active_member  estimated_salary  country_Germany  country_Spain  \\\n",
       "5669              1         171668.20             True          False   \n",
       "8800              1         146411.60            False          False   \n",
       "3205              0          19632.64            False          False   \n",
       "8731              1          47468.56            False           True   \n",
       "6412              1          45038.29             True          False   \n",
       "\n",
       "      gender_Male  \n",
       "5669         True  \n",
       "8800         True  \n",
       "3205        False  \n",
       "8731        False  \n",
       "6412        False  "
      ]
     },
     "execution_count": 120,
     "metadata": {},
     "output_type": "execute_result"
    }
   ],
   "source": [
    "X_test.head(5)"
   ]
  },
  {
   "cell_type": "code",
   "execution_count": 121,
   "metadata": {},
   "outputs": [
    {
     "data": {
      "text/plain": [
       "(8000, 11)"
      ]
     },
     "execution_count": 121,
     "metadata": {},
     "output_type": "execute_result"
    }
   ],
   "source": [
    "#Scale dữ liệu\n",
    "#Các cột 'Credit_score', 'age','balance ', 'tenure', 'products_number','estimated_salary'\n",
    "\n",
    "scale_columns = ['credit_score','age','tenure','balance','products_number','estimated_salary']\n",
    "scaler = MinMaxScaler()\n",
    "scaler.fit(X_train[scale_columns])\n",
    "X_train[scale_columns] = scaler.transform(X_train[scale_columns])\n",
    "X_test[scale_columns] = scaler.transform(X_test[scale_columns])\n",
    "\n",
    "X_train.shape\n"
   ]
  },
  {
   "cell_type": "code",
   "execution_count": 122,
   "metadata": {},
   "outputs": [
    {
     "data": {
      "text/plain": [
       "(2000, 11)"
      ]
     },
     "execution_count": 122,
     "metadata": {},
     "output_type": "execute_result"
    }
   ],
   "source": [
    "X_test.shape"
   ]
  },
  {
   "cell_type": "code",
   "execution_count": 128,
   "metadata": {},
   "outputs": [],
   "source": [
    "def print_score(y_true,y_pred):\n",
    "    print(classification_report(y_true,y_pred))"
   ]
  },
  {
   "cell_type": "code",
   "execution_count": 129,
   "metadata": {},
   "outputs": [
    {
     "name": "stdout",
     "output_type": "stream",
     "text": [
      "              precision    recall  f1-score   support\n",
      "\n",
      "           0       0.81      0.97      0.89      1564\n",
      "           1       0.68      0.20      0.31       436\n",
      "\n",
      "    accuracy                           0.81      2000\n",
      "   macro avg       0.75      0.59      0.60      2000\n",
      "weighted avg       0.78      0.81      0.76      2000\n",
      "\n"
     ]
    }
   ],
   "source": [
    "#Train model với imbalace data (như phân tích ở trên)\n",
    "\n",
    "#Khởi tạo model\n",
    "model_log = LogisticRegression()\n",
    "\n",
    "#fit với dữ liệu train\n",
    "model_log.fit(X_train,y_train)\n",
    "\n",
    "#Dự đoán với dữ liệu test\n",
    "y_pred  = model_log.predict(X_test)\n",
    "\n",
    "#In ra các kết quả\n",
    "print_score(y_test,y_pred)"
   ]
  },
  {
   "cell_type": "code",
   "execution_count": 131,
   "metadata": {},
   "outputs": [],
   "source": [
    "# from sklearn.metrics import confusion_matrix,ConfusionMatrixDisplay\n",
    "# cm = confusion_matrix(y_test, y_pred, labels=model_log.classes_)\n",
    "# cm_matrix = ConfusionMatrixDisplay(confusion_matrix=cm,display_labels=model_log.classes_)\n",
    "# cm_matrix.plot()\n",
    "# plt.show()\n"
   ]
  },
  {
   "cell_type": "code",
   "execution_count": 133,
   "metadata": {},
   "outputs": [
    {
     "name": "stdout",
     "output_type": "stream",
     "text": [
      "              precision    recall  f1-score   support\n",
      "\n",
      "           0       0.90      0.72      0.80      1564\n",
      "           1       0.41      0.70      0.52       436\n",
      "\n",
      "    accuracy                           0.71      2000\n",
      "   macro avg       0.65      0.71      0.66      2000\n",
      "weighted avg       0.79      0.71      0.74      2000\n",
      "\n"
     ]
    }
   ],
   "source": [
    "'''Dễ thấy Accuracy = 0.81 và các chỉ số precition, recall, f1-score của\n",
    "lớp 0 khá cao, nhưng ở lớp 1 tức lớp dự đoán khách hàng rời bỏ dịch vụ lại rất thấp\n",
    "và chỉ phát hiện được recall = 20% khách hàng rời bỏ dịch vụ'''\n",
    "\n",
    "#Xử lí imbalance bằng 'class weight': wj = n_sample/ (n_classes * n_samplej)\n",
    "model_log = LogisticRegression(class_weight='balanced')\n",
    "model_log.fit(X_train,y_train)\n",
    "\n",
    "y_pred  = model_log.predict(X_test)\n",
    "\n",
    "\n",
    "print_score(y_test,y_pred)"
   ]
  },
  {
   "cell_type": "code",
   "execution_count": null,
   "metadata": {},
   "outputs": [],
   "source": [
    "# Acciracy giảm xuống 0.71 nhưng recall, f1_score lớn hơn tức là model dự đoán ra khách hàng rời bỏ tốt hơn"
   ]
  },
  {
   "cell_type": "markdown",
   "metadata": {},
   "source": [
    "#### Thử với Random Forest, Gradient Boosting và XGBoost"
   ]
  },
  {
   "cell_type": "code",
   "execution_count": 134,
   "metadata": {},
   "outputs": [
    {
     "name": "stdout",
     "output_type": "stream",
     "text": [
      "              precision    recall  f1-score   support\n",
      "\n",
      "           0       0.87      0.97      0.92      1564\n",
      "           1       0.83      0.50      0.62       436\n",
      "\n",
      "    accuracy                           0.87      2000\n",
      "   macro avg       0.85      0.74      0.77      2000\n",
      "weighted avg       0.87      0.87      0.86      2000\n",
      "\n"
     ]
    }
   ],
   "source": [
    "from sklearn.ensemble import RandomForestClassifier\n",
    "\n",
    "#Khởi tạo model\n",
    "model_RF = RandomForestClassifier(n_estimators=200, random_state=42)\n",
    "\n",
    "#Fit vào dữ liệu train\n",
    "model_RF.fit(X_train,y_train)\n",
    "\n",
    "#Dự đoán với dữ liệu test\n",
    "y_pred = model_RF.predict(X_test)\n",
    "\n",
    "#In kết quả\n",
    "print_score(y_test,y_pred)\n"
   ]
  },
  {
   "cell_type": "code",
   "execution_count": 135,
   "metadata": {},
   "outputs": [
    {
     "name": "stdout",
     "output_type": "stream",
     "text": [
      "              precision    recall  f1-score   support\n",
      "\n",
      "           0       0.84      0.99      0.91      1564\n",
      "           1       0.90      0.33      0.49       436\n",
      "\n",
      "    accuracy                           0.85      2000\n",
      "   macro avg       0.87      0.66      0.70      2000\n",
      "weighted avg       0.86      0.85      0.82      2000\n",
      "\n"
     ]
    }
   ],
   "source": [
    "#Gradient boosting \n",
    "from sklearn.ensemble import GradientBoostingClassifier\n",
    "model_GB = GradientBoostingClassifier(n_estimators=200, random_state=42, learning_rate=0.01)\n",
    "model_GB.fit(X_train,y_train)\n",
    "y_pred = model_GB.predict(X_test)\n",
    "print_score(y_test,y_pred)"
   ]
  },
  {
   "cell_type": "code",
   "execution_count": 138,
   "metadata": {},
   "outputs": [],
   "source": [
    "# pip install xgboost"
   ]
  },
  {
   "cell_type": "code",
   "execution_count": 140,
   "metadata": {},
   "outputs": [
    {
     "name": "stdout",
     "output_type": "stream",
     "text": [
      "              precision    recall  f1-score   support\n",
      "\n",
      "           0       0.87      0.94      0.91      1564\n",
      "           1       0.71      0.50      0.59       436\n",
      "\n",
      "    accuracy                           0.85      2000\n",
      "   macro avg       0.79      0.72      0.75      2000\n",
      "weighted avg       0.84      0.85      0.84      2000\n",
      "\n"
     ]
    }
   ],
   "source": [
    "import xgboost as xgb\n",
    "model_xgb = xgb.XGBClassifier(random_state=42,n_estimators=200)\n",
    "model_xgb.fit(X_train,y_train)\n",
    "y_pred = model_xgb.predict(X_test)\n",
    "print_score(y_test,y_pred)\n"
   ]
  },
  {
   "cell_type": "code",
   "execution_count": 143,
   "metadata": {},
   "outputs": [
    {
     "data": {
      "text/plain": [
       "churn\n",
       "0    7963\n",
       "1    2037\n",
       "Name: count, dtype: int64"
      ]
     },
     "execution_count": 143,
     "metadata": {},
     "output_type": "execute_result"
    }
   ],
   "source": [
    "# data_new #data đã encoder\n",
    "data['churn'].value_counts() #data chưa encoder"
   ]
  },
  {
   "cell_type": "markdown",
   "metadata": {},
   "source": [
    "## Xử lí imbalance"
   ]
  },
  {
   "cell_type": "markdown",
   "metadata": {},
   "source": [
    "### Random Undersampling"
   ]
  },
  {
   "cell_type": "code",
   "execution_count": 146,
   "metadata": {},
   "outputs": [
    {
     "data": {
      "text/plain": [
       "((7963, 11), (2037, 11))"
      ]
     },
     "execution_count": 146,
     "metadata": {},
     "output_type": "execute_result"
    }
   ],
   "source": [
    "'''Random Undersampling: Lấy ngẫu nhiên 1 tập từ lớp đa số (0) sao cho số dữ kiệu gần bằng \n",
    "lớp thiểu số (1) để model hoạt động tốt hơn'''\n",
    "data_class0 = data[data['churn'] == 0 ]\n",
    "data_class1 = data[data['churn'] == 1 ]\n",
    "# data_class0.sample(3)\n",
    "data_class0.shape, data_class1.shape"
   ]
  },
  {
   "cell_type": "code",
   "execution_count": 150,
   "metadata": {},
   "outputs": [
    {
     "data": {
      "text/plain": [
       "(2037, 11)"
      ]
     },
     "execution_count": 150,
     "metadata": {},
     "output_type": "execute_result"
    }
   ],
   "source": [
    "data_class0_RU = data_class0.sample(data_class1.shape[0])\n",
    "data_class0_RU.shape"
   ]
  },
  {
   "cell_type": "code",
   "execution_count": 151,
   "metadata": {},
   "outputs": [
    {
     "data": {
      "text/plain": [
       "(4074, 11)"
      ]
     },
     "execution_count": 151,
     "metadata": {},
     "output_type": "execute_result"
    }
   ],
   "source": [
    "data_RU = pd.concat([data_class0_RU,data_class1])\n",
    "data_RU.shape"
   ]
  },
  {
   "cell_type": "code",
   "execution_count": 153,
   "metadata": {},
   "outputs": [
    {
     "data": {
      "text/html": [
       "<div>\n",
       "<style scoped>\n",
       "    .dataframe tbody tr th:only-of-type {\n",
       "        vertical-align: middle;\n",
       "    }\n",
       "\n",
       "    .dataframe tbody tr th {\n",
       "        vertical-align: top;\n",
       "    }\n",
       "\n",
       "    .dataframe thead th {\n",
       "        text-align: right;\n",
       "    }\n",
       "</style>\n",
       "<table border=\"1\" class=\"dataframe\">\n",
       "  <thead>\n",
       "    <tr style=\"text-align: right;\">\n",
       "      <th></th>\n",
       "      <th>credit_score</th>\n",
       "      <th>age</th>\n",
       "      <th>tenure</th>\n",
       "      <th>balance</th>\n",
       "      <th>products_number</th>\n",
       "      <th>credit_card</th>\n",
       "      <th>active_member</th>\n",
       "      <th>estimated_salary</th>\n",
       "      <th>churn</th>\n",
       "      <th>country_Germany</th>\n",
       "      <th>country_Spain</th>\n",
       "      <th>gender_Male</th>\n",
       "    </tr>\n",
       "  </thead>\n",
       "  <tbody>\n",
       "    <tr>\n",
       "      <th>2890</th>\n",
       "      <td>586</td>\n",
       "      <td>34</td>\n",
       "      <td>5</td>\n",
       "      <td>168094.01</td>\n",
       "      <td>1</td>\n",
       "      <td>0</td>\n",
       "      <td>0</td>\n",
       "      <td>20058.61</td>\n",
       "      <td>0</td>\n",
       "      <td>False</td>\n",
       "      <td>True</td>\n",
       "      <td>True</td>\n",
       "    </tr>\n",
       "    <tr>\n",
       "      <th>7666</th>\n",
       "      <td>494</td>\n",
       "      <td>25</td>\n",
       "      <td>6</td>\n",
       "      <td>0.00</td>\n",
       "      <td>2</td>\n",
       "      <td>0</td>\n",
       "      <td>1</td>\n",
       "      <td>109988.09</td>\n",
       "      <td>0</td>\n",
       "      <td>False</td>\n",
       "      <td>False</td>\n",
       "      <td>True</td>\n",
       "    </tr>\n",
       "    <tr>\n",
       "      <th>9230</th>\n",
       "      <td>582</td>\n",
       "      <td>35</td>\n",
       "      <td>8</td>\n",
       "      <td>121309.17</td>\n",
       "      <td>2</td>\n",
       "      <td>1</td>\n",
       "      <td>1</td>\n",
       "      <td>28750.67</td>\n",
       "      <td>0</td>\n",
       "      <td>True</td>\n",
       "      <td>False</td>\n",
       "      <td>True</td>\n",
       "    </tr>\n",
       "    <tr>\n",
       "      <th>4678</th>\n",
       "      <td>580</td>\n",
       "      <td>61</td>\n",
       "      <td>8</td>\n",
       "      <td>125921.37</td>\n",
       "      <td>1</td>\n",
       "      <td>1</td>\n",
       "      <td>1</td>\n",
       "      <td>94677.83</td>\n",
       "      <td>0</td>\n",
       "      <td>False</td>\n",
       "      <td>True</td>\n",
       "      <td>True</td>\n",
       "    </tr>\n",
       "    <tr>\n",
       "      <th>3772</th>\n",
       "      <td>745</td>\n",
       "      <td>34</td>\n",
       "      <td>7</td>\n",
       "      <td>132944.53</td>\n",
       "      <td>1</td>\n",
       "      <td>1</td>\n",
       "      <td>1</td>\n",
       "      <td>31802.92</td>\n",
       "      <td>0</td>\n",
       "      <td>False</td>\n",
       "      <td>True</td>\n",
       "      <td>True</td>\n",
       "    </tr>\n",
       "    <tr>\n",
       "      <th>...</th>\n",
       "      <td>...</td>\n",
       "      <td>...</td>\n",
       "      <td>...</td>\n",
       "      <td>...</td>\n",
       "      <td>...</td>\n",
       "      <td>...</td>\n",
       "      <td>...</td>\n",
       "      <td>...</td>\n",
       "      <td>...</td>\n",
       "      <td>...</td>\n",
       "      <td>...</td>\n",
       "      <td>...</td>\n",
       "    </tr>\n",
       "    <tr>\n",
       "      <th>9981</th>\n",
       "      <td>498</td>\n",
       "      <td>42</td>\n",
       "      <td>3</td>\n",
       "      <td>152039.70</td>\n",
       "      <td>1</td>\n",
       "      <td>1</td>\n",
       "      <td>1</td>\n",
       "      <td>53445.17</td>\n",
       "      <td>1</td>\n",
       "      <td>True</td>\n",
       "      <td>False</td>\n",
       "      <td>True</td>\n",
       "    </tr>\n",
       "    <tr>\n",
       "      <th>9982</th>\n",
       "      <td>655</td>\n",
       "      <td>46</td>\n",
       "      <td>7</td>\n",
       "      <td>137145.12</td>\n",
       "      <td>1</td>\n",
       "      <td>1</td>\n",
       "      <td>0</td>\n",
       "      <td>115146.40</td>\n",
       "      <td>1</td>\n",
       "      <td>True</td>\n",
       "      <td>False</td>\n",
       "      <td>False</td>\n",
       "    </tr>\n",
       "    <tr>\n",
       "      <th>9991</th>\n",
       "      <td>597</td>\n",
       "      <td>53</td>\n",
       "      <td>4</td>\n",
       "      <td>88381.21</td>\n",
       "      <td>1</td>\n",
       "      <td>1</td>\n",
       "      <td>0</td>\n",
       "      <td>69384.71</td>\n",
       "      <td>1</td>\n",
       "      <td>False</td>\n",
       "      <td>False</td>\n",
       "      <td>False</td>\n",
       "    </tr>\n",
       "    <tr>\n",
       "      <th>9997</th>\n",
       "      <td>709</td>\n",
       "      <td>36</td>\n",
       "      <td>7</td>\n",
       "      <td>0.00</td>\n",
       "      <td>1</td>\n",
       "      <td>0</td>\n",
       "      <td>1</td>\n",
       "      <td>42085.58</td>\n",
       "      <td>1</td>\n",
       "      <td>False</td>\n",
       "      <td>False</td>\n",
       "      <td>False</td>\n",
       "    </tr>\n",
       "    <tr>\n",
       "      <th>9998</th>\n",
       "      <td>772</td>\n",
       "      <td>42</td>\n",
       "      <td>3</td>\n",
       "      <td>75075.31</td>\n",
       "      <td>2</td>\n",
       "      <td>1</td>\n",
       "      <td>0</td>\n",
       "      <td>92888.52</td>\n",
       "      <td>1</td>\n",
       "      <td>True</td>\n",
       "      <td>False</td>\n",
       "      <td>True</td>\n",
       "    </tr>\n",
       "  </tbody>\n",
       "</table>\n",
       "<p>4074 rows × 12 columns</p>\n",
       "</div>"
      ],
      "text/plain": [
       "      credit_score  age  tenure    balance  products_number  credit_card  \\\n",
       "2890           586   34       5  168094.01                1            0   \n",
       "7666           494   25       6       0.00                2            0   \n",
       "9230           582   35       8  121309.17                2            1   \n",
       "4678           580   61       8  125921.37                1            1   \n",
       "3772           745   34       7  132944.53                1            1   \n",
       "...            ...  ...     ...        ...              ...          ...   \n",
       "9981           498   42       3  152039.70                1            1   \n",
       "9982           655   46       7  137145.12                1            1   \n",
       "9991           597   53       4   88381.21                1            1   \n",
       "9997           709   36       7       0.00                1            0   \n",
       "9998           772   42       3   75075.31                2            1   \n",
       "\n",
       "      active_member  estimated_salary  churn  country_Germany  country_Spain  \\\n",
       "2890              0          20058.61      0            False           True   \n",
       "7666              1         109988.09      0            False          False   \n",
       "9230              1          28750.67      0             True          False   \n",
       "4678              1          94677.83      0            False           True   \n",
       "3772              1          31802.92      0            False           True   \n",
       "...             ...               ...    ...              ...            ...   \n",
       "9981              1          53445.17      1             True          False   \n",
       "9982              0         115146.40      1             True          False   \n",
       "9991              0          69384.71      1            False          False   \n",
       "9997              1          42085.58      1            False          False   \n",
       "9998              0          92888.52      1             True          False   \n",
       "\n",
       "      gender_Male  \n",
       "2890         True  \n",
       "7666         True  \n",
       "9230         True  \n",
       "4678         True  \n",
       "3772         True  \n",
       "...           ...  \n",
       "9981         True  \n",
       "9982        False  \n",
       "9991        False  \n",
       "9997        False  \n",
       "9998         True  \n",
       "\n",
       "[4074 rows x 12 columns]"
      ]
     },
     "execution_count": 153,
     "metadata": {},
     "output_type": "execute_result"
    }
   ],
   "source": [
    "data_RU_new = pd.get_dummies(data_RU,drop_first=True)\n",
    "data_RU_new"
   ]
  },
  {
   "cell_type": "code",
   "execution_count": 155,
   "metadata": {},
   "outputs": [
    {
     "name": "stdout",
     "output_type": "stream",
     "text": [
      "              precision    recall  f1-score   support\n",
      "\n",
      "           0       0.74      0.70      0.72       412\n",
      "           1       0.71      0.74      0.73       403\n",
      "\n",
      "    accuracy                           0.72       815\n",
      "   macro avg       0.72      0.72      0.72       815\n",
      "weighted avg       0.72      0.72      0.72       815\n",
      "\n"
     ]
    }
   ],
   "source": [
    "#Chia lại train, test\n",
    "X = data_RU_new.drop(['churn'],axis=1)\n",
    "y = data_RU_new['churn']\n",
    "X_train, X_test, y_train, y_test = train_test_split(X,y, test_size = 0.2, random_state = 12)\n",
    "\n",
    "#Scale\n",
    "scale_columns = ['credit_score','age','tenure','balance','products_number','estimated_salary']\n",
    "scaler = MinMaxScaler()\n",
    "scaler.fit(X_train[scale_columns])\n",
    "X_train[scale_columns] = scaler.transform(X_train[scale_columns])\n",
    "X_test[scale_columns] = scaler.transform(X_test[scale_columns])\n",
    "\n",
    "# Xây dựng model\n",
    "model_Log = LogisticRegression()\n",
    "model_Log.fit(X_train,y_train)\n",
    "y_pred = model_Log.predict(X_test)\n",
    "print_score(y_test,y_pred)"
   ]
  },
  {
   "cell_type": "code",
   "execution_count": null,
   "metadata": {},
   "outputs": [],
   "source": [
    "''' Model dự đoán tốt hơn do các chỉ số recall, precision, f1_score được cải thiện\n",
    "tuy nhiên việc sử dụng random undersampling có thể gây mất một vài sample quan trọng trong class đa số(0)\n",
    "'''"
   ]
  },
  {
   "cell_type": "code",
   "execution_count": 156,
   "metadata": {},
   "outputs": [
    {
     "name": "stdout",
     "output_type": "stream",
     "text": [
      "              precision    recall  f1-score   support\n",
      "\n",
      "           0       0.79      0.97      0.87       412\n",
      "           1       0.96      0.74      0.84       403\n",
      "\n",
      "    accuracy                           0.86       815\n",
      "   macro avg       0.88      0.86      0.85       815\n",
      "weighted avg       0.88      0.86      0.85       815\n",
      "\n"
     ]
    }
   ],
   "source": [
    "#Random Undersampling kết hợp XGBoost\n",
    "model_XGB = xgb.XGBClassifier(random_state=42,n_estimators=200)\n",
    "model_XGB.fit(X_train,y_train)\n",
    "y_pred = model_xgb.predict(X_test)\n",
    "print_score(y_test,y_pred)\n"
   ]
  },
  {
   "cell_type": "markdown",
   "metadata": {},
   "source": [
    "### Oversampling"
   ]
  },
  {
   "cell_type": "code",
   "execution_count": 170,
   "metadata": {},
   "outputs": [
    {
     "data": {
      "text/plain": [
       "'Random Oversampling: Nhân bản ngẫu nhiên lớp thiểu số (1) \\nđể cân bằng với lớp đa số (0) -> dữ liệu có thể bị duplicate\\n   SMOTE: Sinh ra dữ liệu của lớp thiểu số bằng cách nhân thêm các điểm mới gần các điểm có sẵn\\n-> Do sinh ra dữ liệu mới nên không bị duplicate và mất điểm dữ liệu quan trọng như undersampling\\n'"
      ]
     },
     "execution_count": 170,
     "metadata": {},
     "output_type": "execute_result"
    }
   ],
   "source": [
    "'''Random Oversampling: Nhân bản ngẫu nhiên lớp thiểu số (1) \n",
    "để cân bằng với lớp đa số (0) -> dữ liệu có thể bị duplicate\n",
    "   SMOTE: Sinh ra dữ liệu của lớp thiểu số bằng cách nhân thêm các điểm mới gần các điểm có sẵn\n",
    "-> Do sinh ra dữ liệu mới nên không bị duplicate và mất điểm dữ liệu quan trọng như undersampling\n",
    "'''"
   ]
  },
  {
   "cell_type": "code",
   "execution_count": 171,
   "metadata": {},
   "outputs": [],
   "source": [
    "#Thay vì chia dữ liệu ra làm 2 lớp rồi tăng lớp thiểu số thì ta sẽ dùng thư viện imblearn cho RandomOversampling\n",
    "# from imblearn.over_sampling import RandomOverSampler  \n",
    "# from imblearn.over_sampling import SMOTE, SVMSMOTE\n"
   ]
  },
  {
   "cell_type": "code",
   "execution_count": null,
   "metadata": {},
   "outputs": [],
   "source": []
  },
  {
   "cell_type": "code",
   "execution_count": null,
   "metadata": {},
   "outputs": [],
   "source": []
  }
 ],
 "metadata": {
  "kernelspec": {
   "display_name": "hack",
   "language": "python",
   "name": "python3"
  },
  "language_info": {
   "codemirror_mode": {
    "name": "ipython",
    "version": 3
   },
   "file_extension": ".py",
   "mimetype": "text/x-python",
   "name": "python",
   "nbconvert_exporter": "python",
   "pygments_lexer": "ipython3",
   "version": "3.11.5"
  }
 },
 "nbformat": 4,
 "nbformat_minor": 2
}
